{
 "cells": [
  {
   "cell_type": "code",
   "execution_count": 1,
   "metadata": {},
   "outputs": [],
   "source": [
    "import pandas as pd\n",
    "import numpy as np\n",
    "import matplotlib.pyplot as plt\n",
    "from sklearn import preprocessing\n",
    "import seaborn as sns\n",
    "from scipy.spatial import distance_matrix\n",
    "from sklearn.cluster import KMeans\n",
    "import graphviz\n",
    "from sklearn.tree import DecisionTreeClassifier\n",
    "from sklearn.model_selection import ShuffleSplit,LeaveOneOut,cross_val_score\n",
    "import sklearn.metrics as metrics\n",
    "from sklearn.metrics import confusion_matrix\n",
    "from sklearn.cluster import AgglomerativeClustering\n",
    "from sklearn import neighbors \n",
    "from sklearn.metrics import roc_curve, auc\n",
    "from sklearn.model_selection import train_test_split"
   ]
  },
  {
   "cell_type": "markdown",
   "metadata": {},
   "source": [
    "# Section 1: Data preparation"
   ]
  },
  {
   "cell_type": "markdown",
   "metadata": {},
   "source": [
    "## 1.1 Exploratory Data Analysis"
   ]
  },
  {
   "cell_type": "code",
   "execution_count": 2,
   "metadata": {},
   "outputs": [],
   "source": [
    "data = pd.read_csv(\"./Weather Forecast Training.csv\")"
   ]
  },
  {
   "cell_type": "code",
   "execution_count": 3,
   "metadata": {},
   "outputs": [
    {
     "name": "stdout",
     "output_type": "stream",
     "text": [
      "<class 'pandas.core.frame.DataFrame'>\n",
      "RangeIndex: 51978 entries, 0 to 51977\n",
      "Data columns (total 16 columns):\n",
      "Location         51978 non-null object\n",
      "MinTemp          51694 non-null float64\n",
      "MaxTemp          51849 non-null float64\n",
      "Rainfall         51231 non-null float64\n",
      "Evaporation      29425 non-null float64\n",
      "Sunshine         27103 non-null float64\n",
      "WindGustDir      48380 non-null object\n",
      "WindGustSpeed    48407 non-null float64\n",
      "WindDir          50465 non-null object\n",
      "WindSpeed        50954 non-null float64\n",
      "Humidity         50549 non-null float64\n",
      "Pressure         46912 non-null float64\n",
      "Cloud            31848 non-null float64\n",
      "Temp             50915 non-null float64\n",
      "RainToday        51231 non-null object\n",
      "RainTomorrow     51978 non-null object\n",
      "dtypes: float64(11), object(5)\n",
      "memory usage: 6.3+ MB\n"
     ]
    }
   ],
   "source": [
    "data.info()"
   ]
  },
  {
   "cell_type": "markdown",
   "metadata": {},
   "source": [
    "I can see these data didn't have same rows, so I should fill Nan or drop them to make sure they have same rows."
   ]
  },
  {
   "cell_type": "code",
   "execution_count": 4,
   "metadata": {},
   "outputs": [
    {
     "data": {
      "text/html": [
       "<div>\n",
       "<style scoped>\n",
       "    .dataframe tbody tr th:only-of-type {\n",
       "        vertical-align: middle;\n",
       "    }\n",
       "\n",
       "    .dataframe tbody tr th {\n",
       "        vertical-align: top;\n",
       "    }\n",
       "\n",
       "    .dataframe thead th {\n",
       "        text-align: right;\n",
       "    }\n",
       "</style>\n",
       "<table border=\"1\" class=\"dataframe\">\n",
       "  <thead>\n",
       "    <tr style=\"text-align: right;\">\n",
       "      <th></th>\n",
       "      <th>MinTemp</th>\n",
       "      <th>MaxTemp</th>\n",
       "      <th>Rainfall</th>\n",
       "      <th>Evaporation</th>\n",
       "      <th>Sunshine</th>\n",
       "      <th>WindGustSpeed</th>\n",
       "      <th>WindSpeed</th>\n",
       "      <th>Humidity</th>\n",
       "      <th>Pressure</th>\n",
       "      <th>Cloud</th>\n",
       "      <th>Temp</th>\n",
       "    </tr>\n",
       "  </thead>\n",
       "  <tbody>\n",
       "    <tr>\n",
       "      <td>count</td>\n",
       "      <td>51694.000000</td>\n",
       "      <td>51849.000000</td>\n",
       "      <td>51231.000000</td>\n",
       "      <td>29425.000000</td>\n",
       "      <td>27103.000000</td>\n",
       "      <td>48407.000000</td>\n",
       "      <td>50954.000000</td>\n",
       "      <td>50549.000000</td>\n",
       "      <td>46912.000000</td>\n",
       "      <td>31848.000000</td>\n",
       "      <td>50915.000000</td>\n",
       "    </tr>\n",
       "    <tr>\n",
       "      <td>mean</td>\n",
       "      <td>12.549174</td>\n",
       "      <td>22.512698</td>\n",
       "      <td>3.639494</td>\n",
       "      <td>5.177570</td>\n",
       "      <td>6.530580</td>\n",
       "      <td>42.003016</td>\n",
       "      <td>19.092299</td>\n",
       "      <td>57.432214</td>\n",
       "      <td>1014.273338</td>\n",
       "      <td>5.175647</td>\n",
       "      <td>20.845623</td>\n",
       "    </tr>\n",
       "    <tr>\n",
       "      <td>std</td>\n",
       "      <td>6.376746</td>\n",
       "      <td>7.113064</td>\n",
       "      <td>11.009628</td>\n",
       "      <td>4.017662</td>\n",
       "      <td>3.946561</td>\n",
       "      <td>14.627024</td>\n",
       "      <td>9.157505</td>\n",
       "      <td>21.833045</td>\n",
       "      <td>7.278733</td>\n",
       "      <td>2.632166</td>\n",
       "      <td>6.938471</td>\n",
       "    </tr>\n",
       "    <tr>\n",
       "      <td>min</td>\n",
       "      <td>-8.000000</td>\n",
       "      <td>-4.100000</td>\n",
       "      <td>0.000000</td>\n",
       "      <td>0.000000</td>\n",
       "      <td>0.000000</td>\n",
       "      <td>7.000000</td>\n",
       "      <td>0.000000</td>\n",
       "      <td>1.000000</td>\n",
       "      <td>977.100000</td>\n",
       "      <td>0.000000</td>\n",
       "      <td>-4.400000</td>\n",
       "    </tr>\n",
       "    <tr>\n",
       "      <td>25%</td>\n",
       "      <td>7.900000</td>\n",
       "      <td>17.200000</td>\n",
       "      <td>0.000000</td>\n",
       "      <td>2.400000</td>\n",
       "      <td>3.200000</td>\n",
       "      <td>31.000000</td>\n",
       "      <td>13.000000</td>\n",
       "      <td>42.000000</td>\n",
       "      <td>1009.300000</td>\n",
       "      <td>3.000000</td>\n",
       "      <td>15.700000</td>\n",
       "    </tr>\n",
       "    <tr>\n",
       "      <td>50%</td>\n",
       "      <td>12.300000</td>\n",
       "      <td>21.800000</td>\n",
       "      <td>0.000000</td>\n",
       "      <td>4.400000</td>\n",
       "      <td>6.900000</td>\n",
       "      <td>39.000000</td>\n",
       "      <td>19.000000</td>\n",
       "      <td>58.000000</td>\n",
       "      <td>1014.200000</td>\n",
       "      <td>6.000000</td>\n",
       "      <td>20.200000</td>\n",
       "    </tr>\n",
       "    <tr>\n",
       "      <td>75%</td>\n",
       "      <td>17.200000</td>\n",
       "      <td>27.500000</td>\n",
       "      <td>2.200000</td>\n",
       "      <td>7.000000</td>\n",
       "      <td>9.900000</td>\n",
       "      <td>50.000000</td>\n",
       "      <td>24.000000</td>\n",
       "      <td>73.000000</td>\n",
       "      <td>1019.200000</td>\n",
       "      <td>7.000000</td>\n",
       "      <td>25.600000</td>\n",
       "    </tr>\n",
       "    <tr>\n",
       "      <td>max</td>\n",
       "      <td>31.400000</td>\n",
       "      <td>47.000000</td>\n",
       "      <td>371.000000</td>\n",
       "      <td>77.300000</td>\n",
       "      <td>14.500000</td>\n",
       "      <td>135.000000</td>\n",
       "      <td>83.000000</td>\n",
       "      <td>100.000000</td>\n",
       "      <td>1037.800000</td>\n",
       "      <td>8.000000</td>\n",
       "      <td>46.100000</td>\n",
       "    </tr>\n",
       "  </tbody>\n",
       "</table>\n",
       "</div>"
      ],
      "text/plain": [
       "            MinTemp       MaxTemp      Rainfall   Evaporation      Sunshine  \\\n",
       "count  51694.000000  51849.000000  51231.000000  29425.000000  27103.000000   \n",
       "mean      12.549174     22.512698      3.639494      5.177570      6.530580   \n",
       "std        6.376746      7.113064     11.009628      4.017662      3.946561   \n",
       "min       -8.000000     -4.100000      0.000000      0.000000      0.000000   \n",
       "25%        7.900000     17.200000      0.000000      2.400000      3.200000   \n",
       "50%       12.300000     21.800000      0.000000      4.400000      6.900000   \n",
       "75%       17.200000     27.500000      2.200000      7.000000      9.900000   \n",
       "max       31.400000     47.000000    371.000000     77.300000     14.500000   \n",
       "\n",
       "       WindGustSpeed     WindSpeed      Humidity      Pressure         Cloud  \\\n",
       "count   48407.000000  50954.000000  50549.000000  46912.000000  31848.000000   \n",
       "mean       42.003016     19.092299     57.432214   1014.273338      5.175647   \n",
       "std        14.627024      9.157505     21.833045      7.278733      2.632166   \n",
       "min         7.000000      0.000000      1.000000    977.100000      0.000000   \n",
       "25%        31.000000     13.000000     42.000000   1009.300000      3.000000   \n",
       "50%        39.000000     19.000000     58.000000   1014.200000      6.000000   \n",
       "75%        50.000000     24.000000     73.000000   1019.200000      7.000000   \n",
       "max       135.000000     83.000000    100.000000   1037.800000      8.000000   \n",
       "\n",
       "               Temp  \n",
       "count  50915.000000  \n",
       "mean      20.845623  \n",
       "std        6.938471  \n",
       "min       -4.400000  \n",
       "25%       15.700000  \n",
       "50%       20.200000  \n",
       "75%       25.600000  \n",
       "max       46.100000  "
      ]
     },
     "execution_count": 4,
     "metadata": {},
     "output_type": "execute_result"
    }
   ],
   "source": [
    "data.describe()"
   ]
  },
  {
   "cell_type": "code",
   "execution_count": 5,
   "metadata": {},
   "outputs": [
    {
     "data": {
      "text/html": [
       "<div>\n",
       "<style scoped>\n",
       "    .dataframe tbody tr th:only-of-type {\n",
       "        vertical-align: middle;\n",
       "    }\n",
       "\n",
       "    .dataframe tbody tr th {\n",
       "        vertical-align: top;\n",
       "    }\n",
       "\n",
       "    .dataframe thead th {\n",
       "        text-align: right;\n",
       "    }\n",
       "</style>\n",
       "<table border=\"1\" class=\"dataframe\">\n",
       "  <thead>\n",
       "    <tr style=\"text-align: right;\">\n",
       "      <th></th>\n",
       "      <th>Location</th>\n",
       "      <th>MinTemp</th>\n",
       "      <th>MaxTemp</th>\n",
       "      <th>Rainfall</th>\n",
       "      <th>Evaporation</th>\n",
       "      <th>Sunshine</th>\n",
       "      <th>WindGustDir</th>\n",
       "      <th>WindGustSpeed</th>\n",
       "      <th>WindDir</th>\n",
       "      <th>WindSpeed</th>\n",
       "      <th>Humidity</th>\n",
       "      <th>Pressure</th>\n",
       "      <th>Cloud</th>\n",
       "      <th>Temp</th>\n",
       "      <th>RainToday</th>\n",
       "      <th>RainTomorrow</th>\n",
       "    </tr>\n",
       "  </thead>\n",
       "  <tbody>\n",
       "    <tr>\n",
       "      <td>0</td>\n",
       "      <td>NorahHead</td>\n",
       "      <td>18.9</td>\n",
       "      <td>23.7</td>\n",
       "      <td>0.0</td>\n",
       "      <td>NaN</td>\n",
       "      <td>NaN</td>\n",
       "      <td>SSE</td>\n",
       "      <td>41.0</td>\n",
       "      <td>SSE</td>\n",
       "      <td>28.0</td>\n",
       "      <td>55.0</td>\n",
       "      <td>1026.0</td>\n",
       "      <td>NaN</td>\n",
       "      <td>22.4</td>\n",
       "      <td>No</td>\n",
       "      <td>Yes</td>\n",
       "    </tr>\n",
       "    <tr>\n",
       "      <td>1</td>\n",
       "      <td>Nuriootpa</td>\n",
       "      <td>11.1</td>\n",
       "      <td>20.8</td>\n",
       "      <td>0.0</td>\n",
       "      <td>4.8</td>\n",
       "      <td>8.3</td>\n",
       "      <td>W</td>\n",
       "      <td>39.0</td>\n",
       "      <td>WSW</td>\n",
       "      <td>26.0</td>\n",
       "      <td>48.0</td>\n",
       "      <td>1014.4</td>\n",
       "      <td>7.0</td>\n",
       "      <td>19.5</td>\n",
       "      <td>No</td>\n",
       "      <td>No</td>\n",
       "    </tr>\n",
       "    <tr>\n",
       "      <td>2</td>\n",
       "      <td>GoldCoast</td>\n",
       "      <td>15.9</td>\n",
       "      <td>19.5</td>\n",
       "      <td>17.6</td>\n",
       "      <td>NaN</td>\n",
       "      <td>NaN</td>\n",
       "      <td>SE</td>\n",
       "      <td>44.0</td>\n",
       "      <td>SW</td>\n",
       "      <td>9.0</td>\n",
       "      <td>99.0</td>\n",
       "      <td>1028.5</td>\n",
       "      <td>NaN</td>\n",
       "      <td>17.8</td>\n",
       "      <td>Yes</td>\n",
       "      <td>Yes</td>\n",
       "    </tr>\n",
       "    <tr>\n",
       "      <td>3</td>\n",
       "      <td>Bendigo</td>\n",
       "      <td>0.0</td>\n",
       "      <td>14.9</td>\n",
       "      <td>0.0</td>\n",
       "      <td>NaN</td>\n",
       "      <td>NaN</td>\n",
       "      <td>WSW</td>\n",
       "      <td>35.0</td>\n",
       "      <td>WNW</td>\n",
       "      <td>19.0</td>\n",
       "      <td>55.0</td>\n",
       "      <td>1023.0</td>\n",
       "      <td>4.0</td>\n",
       "      <td>14.2</td>\n",
       "      <td>No</td>\n",
       "      <td>Yes</td>\n",
       "    </tr>\n",
       "    <tr>\n",
       "      <td>4</td>\n",
       "      <td>Walpole</td>\n",
       "      <td>9.1</td>\n",
       "      <td>22.7</td>\n",
       "      <td>0.0</td>\n",
       "      <td>NaN</td>\n",
       "      <td>NaN</td>\n",
       "      <td>NNE</td>\n",
       "      <td>41.0</td>\n",
       "      <td>ESE</td>\n",
       "      <td>7.0</td>\n",
       "      <td>40.0</td>\n",
       "      <td>1027.1</td>\n",
       "      <td>NaN</td>\n",
       "      <td>22.5</td>\n",
       "      <td>No</td>\n",
       "      <td>No</td>\n",
       "    </tr>\n",
       "  </tbody>\n",
       "</table>\n",
       "</div>"
      ],
      "text/plain": [
       "    Location  MinTemp  MaxTemp  Rainfall  Evaporation  Sunshine WindGustDir  \\\n",
       "0  NorahHead     18.9     23.7       0.0          NaN       NaN         SSE   \n",
       "1  Nuriootpa     11.1     20.8       0.0          4.8       8.3           W   \n",
       "2  GoldCoast     15.9     19.5      17.6          NaN       NaN          SE   \n",
       "3    Bendigo      0.0     14.9       0.0          NaN       NaN         WSW   \n",
       "4    Walpole      9.1     22.7       0.0          NaN       NaN         NNE   \n",
       "\n",
       "   WindGustSpeed WindDir  WindSpeed  Humidity  Pressure  Cloud  Temp  \\\n",
       "0           41.0     SSE       28.0      55.0    1026.0    NaN  22.4   \n",
       "1           39.0     WSW       26.0      48.0    1014.4    7.0  19.5   \n",
       "2           44.0      SW        9.0      99.0    1028.5    NaN  17.8   \n",
       "3           35.0     WNW       19.0      55.0    1023.0    4.0  14.2   \n",
       "4           41.0     ESE        7.0      40.0    1027.1    NaN  22.5   \n",
       "\n",
       "  RainToday RainTomorrow  \n",
       "0        No          Yes  \n",
       "1        No           No  \n",
       "2       Yes          Yes  \n",
       "3        No          Yes  \n",
       "4        No           No  "
      ]
     },
     "execution_count": 5,
     "metadata": {},
     "output_type": "execute_result"
    }
   ],
   "source": [
    "data.head(5)"
   ]
  },
  {
   "cell_type": "code",
   "execution_count": 6,
   "metadata": {},
   "outputs": [
    {
     "data": {
      "text/html": [
       "<div>\n",
       "<style scoped>\n",
       "    .dataframe tbody tr th:only-of-type {\n",
       "        vertical-align: middle;\n",
       "    }\n",
       "\n",
       "    .dataframe tbody tr th {\n",
       "        vertical-align: top;\n",
       "    }\n",
       "\n",
       "    .dataframe thead th {\n",
       "        text-align: right;\n",
       "    }\n",
       "</style>\n",
       "<table border=\"1\" class=\"dataframe\">\n",
       "  <thead>\n",
       "    <tr style=\"text-align: right;\">\n",
       "      <th></th>\n",
       "      <th>Location</th>\n",
       "      <th>MinTemp</th>\n",
       "      <th>MaxTemp</th>\n",
       "      <th>Rainfall</th>\n",
       "      <th>Evaporation</th>\n",
       "      <th>Sunshine</th>\n",
       "      <th>WindGustDir</th>\n",
       "      <th>WindGustSpeed</th>\n",
       "      <th>WindDir</th>\n",
       "      <th>WindSpeed</th>\n",
       "      <th>Humidity</th>\n",
       "      <th>Pressure</th>\n",
       "      <th>Cloud</th>\n",
       "      <th>Temp</th>\n",
       "      <th>RainToday</th>\n",
       "      <th>RainTomorrow</th>\n",
       "    </tr>\n",
       "  </thead>\n",
       "  <tbody>\n",
       "    <tr>\n",
       "      <td>51973</td>\n",
       "      <td>CoffsHarbour</td>\n",
       "      <td>20.1</td>\n",
       "      <td>25.8</td>\n",
       "      <td>5.6</td>\n",
       "      <td>4.4</td>\n",
       "      <td>8.2</td>\n",
       "      <td>ESE</td>\n",
       "      <td>28.0</td>\n",
       "      <td>SE</td>\n",
       "      <td>13.0</td>\n",
       "      <td>72.0</td>\n",
       "      <td>1018.9</td>\n",
       "      <td>3.0</td>\n",
       "      <td>24.7</td>\n",
       "      <td>Yes</td>\n",
       "      <td>Yes</td>\n",
       "    </tr>\n",
       "    <tr>\n",
       "      <td>51974</td>\n",
       "      <td>Sydney</td>\n",
       "      <td>14.2</td>\n",
       "      <td>18.6</td>\n",
       "      <td>2.8</td>\n",
       "      <td>4.0</td>\n",
       "      <td>0.0</td>\n",
       "      <td>SSE</td>\n",
       "      <td>41.0</td>\n",
       "      <td>SE</td>\n",
       "      <td>20.0</td>\n",
       "      <td>52.0</td>\n",
       "      <td>1022.3</td>\n",
       "      <td>NaN</td>\n",
       "      <td>17.2</td>\n",
       "      <td>Yes</td>\n",
       "      <td>Yes</td>\n",
       "    </tr>\n",
       "    <tr>\n",
       "      <td>51975</td>\n",
       "      <td>BadgerysCreek</td>\n",
       "      <td>11.1</td>\n",
       "      <td>17.2</td>\n",
       "      <td>1.2</td>\n",
       "      <td>NaN</td>\n",
       "      <td>NaN</td>\n",
       "      <td>W</td>\n",
       "      <td>31.0</td>\n",
       "      <td>W</td>\n",
       "      <td>11.0</td>\n",
       "      <td>92.0</td>\n",
       "      <td>1018.7</td>\n",
       "      <td>NaN</td>\n",
       "      <td>12.9</td>\n",
       "      <td>Yes</td>\n",
       "      <td>Yes</td>\n",
       "    </tr>\n",
       "    <tr>\n",
       "      <td>51976</td>\n",
       "      <td>Sydney</td>\n",
       "      <td>19.0</td>\n",
       "      <td>24.8</td>\n",
       "      <td>0.0</td>\n",
       "      <td>5.2</td>\n",
       "      <td>7.5</td>\n",
       "      <td>NaN</td>\n",
       "      <td>NaN</td>\n",
       "      <td>E</td>\n",
       "      <td>17.0</td>\n",
       "      <td>65.0</td>\n",
       "      <td>1015.4</td>\n",
       "      <td>7.0</td>\n",
       "      <td>23.4</td>\n",
       "      <td>No</td>\n",
       "      <td>No</td>\n",
       "    </tr>\n",
       "    <tr>\n",
       "      <td>51977</td>\n",
       "      <td>Richmond</td>\n",
       "      <td>21.6</td>\n",
       "      <td>36.2</td>\n",
       "      <td>0.0</td>\n",
       "      <td>5.6</td>\n",
       "      <td>NaN</td>\n",
       "      <td>ENE</td>\n",
       "      <td>31.0</td>\n",
       "      <td>ENE</td>\n",
       "      <td>7.0</td>\n",
       "      <td>47.0</td>\n",
       "      <td>1005.9</td>\n",
       "      <td>NaN</td>\n",
       "      <td>32.8</td>\n",
       "      <td>No</td>\n",
       "      <td>No</td>\n",
       "    </tr>\n",
       "  </tbody>\n",
       "</table>\n",
       "</div>"
      ],
      "text/plain": [
       "            Location  MinTemp  MaxTemp  Rainfall  Evaporation  Sunshine  \\\n",
       "51973   CoffsHarbour     20.1     25.8       5.6          4.4       8.2   \n",
       "51974         Sydney     14.2     18.6       2.8          4.0       0.0   \n",
       "51975  BadgerysCreek     11.1     17.2       1.2          NaN       NaN   \n",
       "51976         Sydney     19.0     24.8       0.0          5.2       7.5   \n",
       "51977       Richmond     21.6     36.2       0.0          5.6       NaN   \n",
       "\n",
       "      WindGustDir  WindGustSpeed WindDir  WindSpeed  Humidity  Pressure  \\\n",
       "51973         ESE           28.0      SE       13.0      72.0    1018.9   \n",
       "51974         SSE           41.0      SE       20.0      52.0    1022.3   \n",
       "51975           W           31.0       W       11.0      92.0    1018.7   \n",
       "51976         NaN            NaN       E       17.0      65.0    1015.4   \n",
       "51977         ENE           31.0     ENE        7.0      47.0    1005.9   \n",
       "\n",
       "       Cloud  Temp RainToday RainTomorrow  \n",
       "51973    3.0  24.7       Yes          Yes  \n",
       "51974    NaN  17.2       Yes          Yes  \n",
       "51975    NaN  12.9       Yes          Yes  \n",
       "51976    7.0  23.4        No           No  \n",
       "51977    NaN  32.8        No           No  "
      ]
     },
     "execution_count": 6,
     "metadata": {},
     "output_type": "execute_result"
    }
   ],
   "source": [
    "data.tail(5)"
   ]
  },
  {
   "cell_type": "code",
   "execution_count": 7,
   "metadata": {},
   "outputs": [
    {
     "data": {
      "text/plain": [
       "Location          object\n",
       "MinTemp          float64\n",
       "MaxTemp          float64\n",
       "Rainfall         float64\n",
       "Evaporation      float64\n",
       "Sunshine         float64\n",
       "WindGustDir       object\n",
       "WindGustSpeed    float64\n",
       "WindDir           object\n",
       "WindSpeed        float64\n",
       "Humidity         float64\n",
       "Pressure         float64\n",
       "Cloud            float64\n",
       "Temp             float64\n",
       "RainToday         object\n",
       "RainTomorrow      object\n",
       "dtype: object"
      ]
     },
     "execution_count": 7,
     "metadata": {},
     "output_type": "execute_result"
    }
   ],
   "source": [
    "data.dtypes"
   ]
  },
  {
   "cell_type": "markdown",
   "metadata": {},
   "source": [
    "## 1.2 Data Cleaning"
   ]
  },
  {
   "cell_type": "markdown",
   "metadata": {},
   "source": [
    "### 1.2.1 Dropping the missing or null values"
   ]
  },
  {
   "cell_type": "code",
   "execution_count": 8,
   "metadata": {},
   "outputs": [
    {
     "data": {
      "text/plain": [
       "Location             0\n",
       "MinTemp            284\n",
       "MaxTemp            129\n",
       "Rainfall           747\n",
       "Evaporation      22553\n",
       "Sunshine         24875\n",
       "WindGustDir       3598\n",
       "WindGustSpeed     3571\n",
       "WindDir           1513\n",
       "WindSpeed         1024\n",
       "Humidity          1429\n",
       "Pressure          5066\n",
       "Cloud            20130\n",
       "Temp              1063\n",
       "RainToday          747\n",
       "RainTomorrow         0\n",
       "dtype: int64"
      ]
     },
     "execution_count": 8,
     "metadata": {},
     "output_type": "execute_result"
    }
   ],
   "source": [
    "data.isnull().sum()"
   ]
  },
  {
   "cell_type": "code",
   "execution_count": 9,
   "metadata": {},
   "outputs": [
    {
     "data": {
      "text/plain": [
       "Location         51978\n",
       "MinTemp          51694\n",
       "MaxTemp          51849\n",
       "Rainfall         51231\n",
       "Evaporation      29425\n",
       "Sunshine         27103\n",
       "WindGustDir      48380\n",
       "WindGustSpeed    48407\n",
       "WindDir          50465\n",
       "WindSpeed        50954\n",
       "Humidity         50549\n",
       "Pressure         46912\n",
       "Cloud            31848\n",
       "Temp             50915\n",
       "RainToday        51231\n",
       "RainTomorrow     51978\n",
       "dtype: int64"
      ]
     },
     "execution_count": 9,
     "metadata": {},
     "output_type": "execute_result"
    }
   ],
   "source": [
    "data.count()"
   ]
  },
  {
   "cell_type": "code",
   "execution_count": 10,
   "metadata": {},
   "outputs": [
    {
     "data": {
      "text/plain": [
       "[<matplotlib.lines.Line2D at 0x7feef13efb10>]"
      ]
     },
     "execution_count": 10,
     "metadata": {},
     "output_type": "execute_result"
    },
    {
     "data": {
      "image/png": "[encoded data removed]",
      "text/plain": [
       "<Figure size 1440x720 with 1 Axes>"
      ]
     },
     "metadata": {
      "needs_background": "light"
     },
     "output_type": "display_data"
    }
   ],
   "source": [
    "plt.figure(figsize=(20,10))\n",
    "plt.xlabel('features',fontsize=18)\n",
    "plt.ylabel('the number of missing',fontsize=18)\n",
    "plt.plot(data.count())\n",
    "plt.plot(data.isnull().sum())"
   ]
  },
  {
   "cell_type": "markdown",
   "metadata": {},
   "source": [
    "I can see there are a lot of missing value in this dataset. Especially in Evaporation, Sunshine, Cloud, etc. But at first, let's deal with Temperature. In MinTemp and MaxTemp, I can use the Temperature in a day to fill NaN, and we can use the average of MinTemp and MaxTemp as the Temperature in this day. Similarly, I also can deal with WindGustSpeed and WindSpeed, make them fill each other."
   ]
  },
  {
   "cell_type": "code",
   "execution_count": 11,
   "metadata": {},
   "outputs": [],
   "source": [
    "name = ['Location', 'MinTemp', 'Temp','MaxTemp', 'Rainfall', 'Evaporation', 'Sunshine',\n",
    "       'WindGustDir', 'WindDir','WindGustSpeed', 'WindSpeed', 'Humidity',\n",
    "       'Pressure', 'Cloud', 'RainToday', 'RainTomorrow']\n",
    "data = data[name]\n",
    "data.MinTemp.fillna(method='bfill',inplace=True)\n",
    "data.MaxTemp.fillna(method='ffill',inplace=True)\n",
    "data.Temp.fillna((data.MinTemp+data.MaxTemp)/2,inplace=True)\n",
    "data.WindGustSpeed.fillna(method='bfill',inplace=True)\n",
    "data.WindSpeed.fillna(method='ffill',inplace=True)"
   ]
  },
  {
   "cell_type": "code",
   "execution_count": 12,
   "metadata": {},
   "outputs": [],
   "source": [
    "data.Rainfall = data.Rainfall.fillna(0)\n",
    "data.RainToday = [\"Yes\" if status > 1 else \"No\" for status in data.Rainfall]"
   ]
  },
  {
   "cell_type": "markdown",
   "metadata": {},
   "source": [
    "I can see there are 747 rows missing in Rainfall and  747 rows missing in RainTomorrow, and they are in the same rows from the above statistics, so I consider missing value in Rainfall means there was not rain in that day. According to 1 if precipitation (mm) in the 24 hours to 9am exceeds 1mm, otherwise 0, so fillna to RainToday."
   ]
  },
  {
   "cell_type": "code",
   "execution_count": 13,
   "metadata": {},
   "outputs": [
    {
     "data": {
      "text/plain": [
       "Location             0\n",
       "MinTemp              0\n",
       "Temp                 0\n",
       "MaxTemp              0\n",
       "Rainfall             0\n",
       "Evaporation      22553\n",
       "Sunshine         24875\n",
       "WindGustDir       3598\n",
       "WindDir           1513\n",
       "WindGustSpeed        0\n",
       "WindSpeed            0\n",
       "Humidity          1429\n",
       "Pressure          5066\n",
       "Cloud            20130\n",
       "RainToday            0\n",
       "RainTomorrow         0\n",
       "dtype: int64"
      ]
     },
     "execution_count": 13,
     "metadata": {},
     "output_type": "execute_result"
    }
   ],
   "source": [
    "data.isnull().sum()"
   ]
  },
  {
   "cell_type": "code",
   "execution_count": 14,
   "metadata": {},
   "outputs": [
    {
     "data": {
      "text/html": [
       "<div>\n",
       "<style scoped>\n",
       "    .dataframe tbody tr th:only-of-type {\n",
       "        vertical-align: middle;\n",
       "    }\n",
       "\n",
       "    .dataframe tbody tr th {\n",
       "        vertical-align: top;\n",
       "    }\n",
       "\n",
       "    .dataframe thead th {\n",
       "        text-align: right;\n",
       "    }\n",
       "</style>\n",
       "<table border=\"1\" class=\"dataframe\">\n",
       "  <thead>\n",
       "    <tr style=\"text-align: right;\">\n",
       "      <th></th>\n",
       "      <th>MinTemp</th>\n",
       "      <th>Temp</th>\n",
       "      <th>MaxTemp</th>\n",
       "      <th>Rainfall</th>\n",
       "      <th>Evaporation</th>\n",
       "      <th>Sunshine</th>\n",
       "      <th>WindGustSpeed</th>\n",
       "      <th>WindSpeed</th>\n",
       "      <th>Humidity</th>\n",
       "      <th>Pressure</th>\n",
       "      <th>Cloud</th>\n",
       "    </tr>\n",
       "    <tr>\n",
       "      <th>Location</th>\n",
       "      <th></th>\n",
       "      <th></th>\n",
       "      <th></th>\n",
       "      <th></th>\n",
       "      <th></th>\n",
       "      <th></th>\n",
       "      <th></th>\n",
       "      <th></th>\n",
       "      <th></th>\n",
       "      <th></th>\n",
       "      <th></th>\n",
       "    </tr>\n",
       "  </thead>\n",
       "  <tbody>\n",
       "    <tr>\n",
       "      <td>Adelaide</td>\n",
       "      <td>12.296931</td>\n",
       "      <td>19.934567</td>\n",
       "      <td>21.375451</td>\n",
       "      <td>2.235018</td>\n",
       "      <td>5.460000</td>\n",
       "      <td>6.316694</td>\n",
       "      <td>39.264440</td>\n",
       "      <td>16.085740</td>\n",
       "      <td>51.093044</td>\n",
       "      <td>1015.534959</td>\n",
       "      <td>NaN</td>\n",
       "    </tr>\n",
       "    <tr>\n",
       "      <td>Albany</td>\n",
       "      <td>12.590025</td>\n",
       "      <td>17.378986</td>\n",
       "      <td>19.630417</td>\n",
       "      <td>3.071055</td>\n",
       "      <td>3.863768</td>\n",
       "      <td>5.963781</td>\n",
       "      <td>41.418643</td>\n",
       "      <td>18.899428</td>\n",
       "      <td>69.400215</td>\n",
       "      <td>1014.930256</td>\n",
       "      <td>5.374332</td>\n",
       "    </tr>\n",
       "    <tr>\n",
       "      <td>Albury</td>\n",
       "      <td>9.642521</td>\n",
       "      <td>20.125306</td>\n",
       "      <td>21.532549</td>\n",
       "      <td>2.615428</td>\n",
       "      <td>NaN</td>\n",
       "      <td>NaN</td>\n",
       "      <td>34.680151</td>\n",
       "      <td>14.760113</td>\n",
       "      <td>54.276415</td>\n",
       "      <td>1014.684340</td>\n",
       "      <td>5.837321</td>\n",
       "    </tr>\n",
       "    <tr>\n",
       "      <td>AliceSprings</td>\n",
       "      <td>13.895978</td>\n",
       "      <td>27.586704</td>\n",
       "      <td>28.971844</td>\n",
       "      <td>1.491844</td>\n",
       "      <td>8.853589</td>\n",
       "      <td>8.731471</td>\n",
       "      <td>41.163128</td>\n",
       "      <td>17.849162</td>\n",
       "      <td>28.806488</td>\n",
       "      <td>1012.489497</td>\n",
       "      <td>3.813836</td>\n",
       "    </tr>\n",
       "    <tr>\n",
       "      <td>BadgerysCreek</td>\n",
       "      <td>12.069322</td>\n",
       "      <td>21.981760</td>\n",
       "      <td>23.669027</td>\n",
       "      <td>3.157129</td>\n",
       "      <td>NaN</td>\n",
       "      <td>NaN</td>\n",
       "      <td>34.364798</td>\n",
       "      <td>13.796460</td>\n",
       "      <td>58.002988</td>\n",
       "      <td>1015.273602</td>\n",
       "      <td>NaN</td>\n",
       "    </tr>\n",
       "  </tbody>\n",
       "</table>\n",
       "</div>"
      ],
      "text/plain": [
       "                 MinTemp       Temp    MaxTemp  Rainfall  Evaporation  \\\n",
       "Location                                                                \n",
       "Adelaide       12.296931  19.934567  21.375451  2.235018     5.460000   \n",
       "Albany         12.590025  17.378986  19.630417  3.071055     3.863768   \n",
       "Albury          9.642521  20.125306  21.532549  2.615428          NaN   \n",
       "AliceSprings   13.895978  27.586704  28.971844  1.491844     8.853589   \n",
       "BadgerysCreek  12.069322  21.981760  23.669027  3.157129          NaN   \n",
       "\n",
       "               Sunshine  WindGustSpeed  WindSpeed   Humidity     Pressure  \\\n",
       "Location                                                                    \n",
       "Adelaide       6.316694      39.264440  16.085740  51.093044  1015.534959   \n",
       "Albany         5.963781      41.418643  18.899428  69.400215  1014.930256   \n",
       "Albury              NaN      34.680151  14.760113  54.276415  1014.684340   \n",
       "AliceSprings   8.731471      41.163128  17.849162  28.806488  1012.489497   \n",
       "BadgerysCreek       NaN      34.364798  13.796460  58.002988  1015.273602   \n",
       "\n",
       "                  Cloud  \n",
       "Location                 \n",
       "Adelaide            NaN  \n",
       "Albany         5.374332  \n",
       "Albury         5.837321  \n",
       "AliceSprings   3.813836  \n",
       "BadgerysCreek       NaN  "
      ]
     },
     "execution_count": 14,
     "metadata": {},
     "output_type": "execute_result"
    }
   ],
   "source": [
    "df_mean = data.groupby('Location').mean()\n",
    "df_mean.head(5)"
   ]
  },
  {
   "cell_type": "markdown",
   "metadata": {},
   "source": [
    "Taking into account the environment and temperature in different locations, it cannot be calculated by averaging all the data. Therefore, I groupby this data by locations, and used theirselves average data to fill NaN in order to ensure more accurate and reliable data。"
   ]
  },
  {
   "cell_type": "code",
   "execution_count": 15,
   "metadata": {},
   "outputs": [],
   "source": [
    "df_mean.Pressure = df_mean.Pressure.fillna(df_mean.Pressure.mean()) "
   ]
  },
  {
   "cell_type": "code",
   "execution_count": 16,
   "metadata": {},
   "outputs": [],
   "source": [
    "data_fill = pd.DataFrame()\n",
    "locations = data.Location.unique()\n",
    "for i in locations:\n",
    "    t = data.Location == i\n",
    "    a = data[t].fillna(data[t].mean())\n",
    "    data_fill = data_fill.append(a)"
   ]
  },
  {
   "cell_type": "code",
   "execution_count": 17,
   "metadata": {},
   "outputs": [
    {
     "data": {
      "text/plain": [
       "Location             0\n",
       "MinTemp              0\n",
       "Temp                 0\n",
       "MaxTemp              0\n",
       "Rainfall             0\n",
       "Evaporation      16332\n",
       "Sunshine         19092\n",
       "WindGustDir       3598\n",
       "WindDir           1513\n",
       "WindGustSpeed        0\n",
       "WindSpeed            0\n",
       "Humidity             0\n",
       "Pressure          4253\n",
       "Cloud            12756\n",
       "RainToday            0\n",
       "RainTomorrow         0\n",
       "dtype: int64"
      ]
     },
     "execution_count": 17,
     "metadata": {},
     "output_type": "execute_result"
    }
   ],
   "source": [
    "data_fill.isnull().sum()"
   ]
  },
  {
   "cell_type": "code",
   "execution_count": 18,
   "metadata": {},
   "outputs": [],
   "source": [
    "data_fill.Pressure = data_fill.Pressure.fillna(data_fill.Pressure.mean())\n",
    "data = data_fill"
   ]
  },
  {
   "cell_type": "code",
   "execution_count": 19,
   "metadata": {},
   "outputs": [],
   "source": [
    "categorical_columns = ['WindGustDir', 'WindDir']\n",
    "data = pd.get_dummies(data, columns=categorical_columns)"
   ]
  },
  {
   "cell_type": "markdown",
   "metadata": {},
   "source": [
    "Now I get the average of Rainfall in every locations, so I can"
   ]
  },
  {
   "cell_type": "markdown",
   "metadata": {},
   "source": [
    "### 1.2.2 Detecting Outliers\n",
    "\n",
    "I can see there are few columns which have some outliers, so I drop some of them by statistics methods."
   ]
  },
  {
   "cell_type": "code",
   "execution_count": 20,
   "metadata": {},
   "outputs": [
    {
     "data": {
      "image/png": "[encoded data removed]",
      "text/plain": [
       "<Figure size 1080x576 with 12 Axes>"
      ]
     },
     "metadata": {
      "needs_background": "light"
     },
     "output_type": "display_data"
    }
   ],
   "source": [
    "fig, ([ax1, ax2, ax3, ax4], [ax5, ax6, ax7, ax8], [ax9, ax10, ax11, ax12]) = plt.subplots(3,4, figsize=(15,8))\n",
    "sns.boxplot(x=data['MinTemp'],ax=ax1)\n",
    "sns.boxplot(x=data['MaxTemp'], ax=ax2)\n",
    "sns.boxplot(x=data['Rainfall'], ax=ax3)\n",
    "sns.boxplot(x=data['Evaporation'],ax=ax4)\n",
    "sns.boxplot(x=data['Sunshine'],ax=ax5)\n",
    "sns.boxplot(x=data['WindGustSpeed'],ax=ax6)\n",
    "sns.boxplot(x=data['WindSpeed'],ax=ax7)\n",
    "sns.boxplot(x=data['Humidity'],ax=ax8)\n",
    "sns.boxplot(x=data['Pressure'],ax=ax9)\n",
    "sns.boxplot(x=data['Cloud'],ax=ax10)\n",
    "sns.boxplot(x=data['Temp'],ax=ax11)\n",
    "plt.show()"
   ]
  },
  {
   "cell_type": "code",
   "execution_count": 21,
   "metadata": {},
   "outputs": [
    {
     "data": {
      "text/plain": [
       "(51978, 46)"
      ]
     },
     "execution_count": 21,
     "metadata": {},
     "output_type": "execute_result"
    }
   ],
   "source": [
    "data.shape"
   ]
  },
  {
   "cell_type": "code",
   "execution_count": 22,
   "metadata": {},
   "outputs": [
    {
     "data": {
      "text/plain": [
       "Location               0\n",
       "MinTemp                0\n",
       "Temp                   0\n",
       "MaxTemp                0\n",
       "Rainfall               0\n",
       "Evaporation        16332\n",
       "Sunshine           19092\n",
       "WindGustSpeed          0\n",
       "WindSpeed              0\n",
       "Humidity               0\n",
       "Pressure               0\n",
       "Cloud              12756\n",
       "RainToday              0\n",
       "RainTomorrow           0\n",
       "WindGustDir_E          0\n",
       "WindGustDir_ENE        0\n",
       "WindGustDir_ESE        0\n",
       "WindGustDir_N          0\n",
       "WindGustDir_NE         0\n",
       "WindGustDir_NNE        0\n",
       "WindGustDir_NNW        0\n",
       "WindGustDir_NW         0\n",
       "WindGustDir_S          0\n",
       "WindGustDir_SE         0\n",
       "WindGustDir_SSE        0\n",
       "WindGustDir_SSW        0\n",
       "WindGustDir_SW         0\n",
       "WindGustDir_W          0\n",
       "WindGustDir_WNW        0\n",
       "WindGustDir_WSW        0\n",
       "WindDir_E              0\n",
       "WindDir_ENE            0\n",
       "WindDir_ESE            0\n",
       "WindDir_N              0\n",
       "WindDir_NE             0\n",
       "WindDir_NNE            0\n",
       "WindDir_NNW            0\n",
       "WindDir_NW             0\n",
       "WindDir_S              0\n",
       "WindDir_SE             0\n",
       "WindDir_SSE            0\n",
       "WindDir_SSW            0\n",
       "WindDir_SW             0\n",
       "WindDir_W              0\n",
       "WindDir_WNW            0\n",
       "WindDir_WSW            0\n",
       "dtype: int64"
      ]
     },
     "execution_count": 22,
     "metadata": {},
     "output_type": "execute_result"
    }
   ],
   "source": [
    "data.isnull().sum()"
   ]
  },
  {
   "cell_type": "markdown",
   "metadata": {},
   "source": [
    "### 1.2.3 Drop useless data\n",
    "There are 16 directions in WindGustDir and WindDir, it's too difficult to use them in model, and general speaking, the direction of wind won't affect rain or not, so I drop them both. As for RainToday, I "
   ]
  },
  {
   "cell_type": "code",
   "execution_count": 23,
   "metadata": {},
   "outputs": [],
   "source": [
    "data = data.drop(['Evaporation','Sunshine','Cloud'],axis=1)\n",
    "data = data.sort_index(axis = 0)"
   ]
  },
  {
   "cell_type": "code",
   "execution_count": 24,
   "metadata": {},
   "outputs": [
    {
     "data": {
      "text/plain": [
       "MinTemp            0\n",
       "Temp               0\n",
       "MaxTemp            0\n",
       "Rainfall           0\n",
       "WindGustSpeed      0\n",
       "WindSpeed          0\n",
       "Humidity           0\n",
       "Pressure           0\n",
       "RainToday          0\n",
       "RainTomorrow       0\n",
       "WindGustDir_E      0\n",
       "WindGustDir_ENE    0\n",
       "WindGustDir_ESE    0\n",
       "WindGustDir_N      0\n",
       "WindGustDir_NE     0\n",
       "WindGustDir_NNE    0\n",
       "WindGustDir_NNW    0\n",
       "WindGustDir_NW     0\n",
       "WindGustDir_S      0\n",
       "WindGustDir_SE     0\n",
       "WindGustDir_SSE    0\n",
       "WindGustDir_SSW    0\n",
       "WindGustDir_SW     0\n",
       "WindGustDir_W      0\n",
       "WindGustDir_WNW    0\n",
       "WindGustDir_WSW    0\n",
       "WindDir_E          0\n",
       "WindDir_ENE        0\n",
       "WindDir_ESE        0\n",
       "WindDir_N          0\n",
       "WindDir_NE         0\n",
       "WindDir_NNE        0\n",
       "WindDir_NNW        0\n",
       "WindDir_NW         0\n",
       "WindDir_S          0\n",
       "WindDir_SE         0\n",
       "WindDir_SSE        0\n",
       "WindDir_SSW        0\n",
       "WindDir_SW         0\n",
       "WindDir_W          0\n",
       "WindDir_WNW        0\n",
       "WindDir_WSW        0\n",
       "dtype: int64"
      ]
     },
     "execution_count": 24,
     "metadata": {},
     "output_type": "execute_result"
    }
   ],
   "source": [
    "data = data.set_index('Location')\n",
    "data.isnull().sum()"
   ]
  },
  {
   "cell_type": "code",
   "execution_count": 25,
   "metadata": {},
   "outputs": [
    {
     "data": {
      "text/plain": [
       "(51978, 42)"
      ]
     },
     "execution_count": 25,
     "metadata": {},
     "output_type": "execute_result"
    }
   ],
   "source": [
    "data.shape"
   ]
  },
  {
   "cell_type": "markdown",
   "metadata": {},
   "source": [
    "## 1.3 Data Preprocessing"
   ]
  },
  {
   "cell_type": "markdown",
   "metadata": {},
   "source": [
    "### 1.3.1 Dummy Variables"
   ]
  },
  {
   "cell_type": "code",
   "execution_count": 26,
   "metadata": {},
   "outputs": [
    {
     "data": {
      "text/html": [
       "<div>\n",
       "<style scoped>\n",
       "    .dataframe tbody tr th:only-of-type {\n",
       "        vertical-align: middle;\n",
       "    }\n",
       "\n",
       "    .dataframe tbody tr th {\n",
       "        vertical-align: top;\n",
       "    }\n",
       "\n",
       "    .dataframe thead th {\n",
       "        text-align: right;\n",
       "    }\n",
       "</style>\n",
       "<table border=\"1\" class=\"dataframe\">\n",
       "  <thead>\n",
       "    <tr style=\"text-align: right;\">\n",
       "      <th></th>\n",
       "      <th>MinTemp</th>\n",
       "      <th>Temp</th>\n",
       "      <th>MaxTemp</th>\n",
       "      <th>Rainfall</th>\n",
       "      <th>WindGustSpeed</th>\n",
       "      <th>WindSpeed</th>\n",
       "      <th>Humidity</th>\n",
       "      <th>Pressure</th>\n",
       "      <th>RainToday</th>\n",
       "      <th>RainTomorrow</th>\n",
       "      <th>...</th>\n",
       "      <th>WindDir_NNW</th>\n",
       "      <th>WindDir_NW</th>\n",
       "      <th>WindDir_S</th>\n",
       "      <th>WindDir_SE</th>\n",
       "      <th>WindDir_SSE</th>\n",
       "      <th>WindDir_SSW</th>\n",
       "      <th>WindDir_SW</th>\n",
       "      <th>WindDir_W</th>\n",
       "      <th>WindDir_WNW</th>\n",
       "      <th>WindDir_WSW</th>\n",
       "    </tr>\n",
       "    <tr>\n",
       "      <th>Location</th>\n",
       "      <th></th>\n",
       "      <th></th>\n",
       "      <th></th>\n",
       "      <th></th>\n",
       "      <th></th>\n",
       "      <th></th>\n",
       "      <th></th>\n",
       "      <th></th>\n",
       "      <th></th>\n",
       "      <th></th>\n",
       "      <th></th>\n",
       "      <th></th>\n",
       "      <th></th>\n",
       "      <th></th>\n",
       "      <th></th>\n",
       "      <th></th>\n",
       "      <th></th>\n",
       "      <th></th>\n",
       "      <th></th>\n",
       "      <th></th>\n",
       "      <th></th>\n",
       "    </tr>\n",
       "  </thead>\n",
       "  <tbody>\n",
       "    <tr>\n",
       "      <td>NorahHead</td>\n",
       "      <td>18.9</td>\n",
       "      <td>22.4</td>\n",
       "      <td>23.7</td>\n",
       "      <td>0.0</td>\n",
       "      <td>41.0</td>\n",
       "      <td>28.0</td>\n",
       "      <td>55.0</td>\n",
       "      <td>1026.0</td>\n",
       "      <td>0</td>\n",
       "      <td>1</td>\n",
       "      <td>...</td>\n",
       "      <td>0</td>\n",
       "      <td>0</td>\n",
       "      <td>0</td>\n",
       "      <td>0</td>\n",
       "      <td>1</td>\n",
       "      <td>0</td>\n",
       "      <td>0</td>\n",
       "      <td>0</td>\n",
       "      <td>0</td>\n",
       "      <td>0</td>\n",
       "    </tr>\n",
       "    <tr>\n",
       "      <td>Nuriootpa</td>\n",
       "      <td>11.1</td>\n",
       "      <td>19.5</td>\n",
       "      <td>20.8</td>\n",
       "      <td>0.0</td>\n",
       "      <td>39.0</td>\n",
       "      <td>26.0</td>\n",
       "      <td>48.0</td>\n",
       "      <td>1014.4</td>\n",
       "      <td>0</td>\n",
       "      <td>0</td>\n",
       "      <td>...</td>\n",
       "      <td>0</td>\n",
       "      <td>0</td>\n",
       "      <td>0</td>\n",
       "      <td>0</td>\n",
       "      <td>0</td>\n",
       "      <td>0</td>\n",
       "      <td>0</td>\n",
       "      <td>0</td>\n",
       "      <td>0</td>\n",
       "      <td>1</td>\n",
       "    </tr>\n",
       "    <tr>\n",
       "      <td>GoldCoast</td>\n",
       "      <td>15.9</td>\n",
       "      <td>17.8</td>\n",
       "      <td>19.5</td>\n",
       "      <td>17.6</td>\n",
       "      <td>44.0</td>\n",
       "      <td>9.0</td>\n",
       "      <td>99.0</td>\n",
       "      <td>1028.5</td>\n",
       "      <td>1</td>\n",
       "      <td>1</td>\n",
       "      <td>...</td>\n",
       "      <td>0</td>\n",
       "      <td>0</td>\n",
       "      <td>0</td>\n",
       "      <td>0</td>\n",
       "      <td>0</td>\n",
       "      <td>0</td>\n",
       "      <td>1</td>\n",
       "      <td>0</td>\n",
       "      <td>0</td>\n",
       "      <td>0</td>\n",
       "    </tr>\n",
       "    <tr>\n",
       "      <td>Bendigo</td>\n",
       "      <td>0.0</td>\n",
       "      <td>14.2</td>\n",
       "      <td>14.9</td>\n",
       "      <td>0.0</td>\n",
       "      <td>35.0</td>\n",
       "      <td>19.0</td>\n",
       "      <td>55.0</td>\n",
       "      <td>1023.0</td>\n",
       "      <td>0</td>\n",
       "      <td>1</td>\n",
       "      <td>...</td>\n",
       "      <td>0</td>\n",
       "      <td>0</td>\n",
       "      <td>0</td>\n",
       "      <td>0</td>\n",
       "      <td>0</td>\n",
       "      <td>0</td>\n",
       "      <td>0</td>\n",
       "      <td>0</td>\n",
       "      <td>1</td>\n",
       "      <td>0</td>\n",
       "    </tr>\n",
       "    <tr>\n",
       "      <td>Walpole</td>\n",
       "      <td>9.1</td>\n",
       "      <td>22.5</td>\n",
       "      <td>22.7</td>\n",
       "      <td>0.0</td>\n",
       "      <td>41.0</td>\n",
       "      <td>7.0</td>\n",
       "      <td>40.0</td>\n",
       "      <td>1027.1</td>\n",
       "      <td>0</td>\n",
       "      <td>0</td>\n",
       "      <td>...</td>\n",
       "      <td>0</td>\n",
       "      <td>0</td>\n",
       "      <td>0</td>\n",
       "      <td>0</td>\n",
       "      <td>0</td>\n",
       "      <td>0</td>\n",
       "      <td>0</td>\n",
       "      <td>0</td>\n",
       "      <td>0</td>\n",
       "      <td>0</td>\n",
       "    </tr>\n",
       "  </tbody>\n",
       "</table>\n",
       "<p>5 rows × 42 columns</p>\n",
       "</div>"
      ],
      "text/plain": [
       "           MinTemp  Temp  MaxTemp  Rainfall  WindGustSpeed  WindSpeed  \\\n",
       "Location                                                                \n",
       "NorahHead     18.9  22.4     23.7       0.0           41.0       28.0   \n",
       "Nuriootpa     11.1  19.5     20.8       0.0           39.0       26.0   \n",
       "GoldCoast     15.9  17.8     19.5      17.6           44.0        9.0   \n",
       "Bendigo        0.0  14.2     14.9       0.0           35.0       19.0   \n",
       "Walpole        9.1  22.5     22.7       0.0           41.0        7.0   \n",
       "\n",
       "           Humidity  Pressure  RainToday  RainTomorrow  ...  WindDir_NNW  \\\n",
       "Location                                                ...                \n",
       "NorahHead      55.0    1026.0          0             1  ...            0   \n",
       "Nuriootpa      48.0    1014.4          0             0  ...            0   \n",
       "GoldCoast      99.0    1028.5          1             1  ...            0   \n",
       "Bendigo        55.0    1023.0          0             1  ...            0   \n",
       "Walpole        40.0    1027.1          0             0  ...            0   \n",
       "\n",
       "           WindDir_NW  WindDir_S  WindDir_SE  WindDir_SSE  WindDir_SSW  \\\n",
       "Location                                                                 \n",
       "NorahHead           0          0           0            1            0   \n",
       "Nuriootpa           0          0           0            0            0   \n",
       "GoldCoast           0          0           0            0            0   \n",
       "Bendigo             0          0           0            0            0   \n",
       "Walpole             0          0           0            0            0   \n",
       "\n",
       "           WindDir_SW  WindDir_W  WindDir_WNW  WindDir_WSW  \n",
       "Location                                                    \n",
       "NorahHead           0          0            0            0  \n",
       "Nuriootpa           0          0            0            1  \n",
       "GoldCoast           1          0            0            0  \n",
       "Bendigo             0          0            1            0  \n",
       "Walpole             0          0            0            0  \n",
       "\n",
       "[5 rows x 42 columns]"
      ]
     },
     "execution_count": 26,
     "metadata": {},
     "output_type": "execute_result"
    }
   ],
   "source": [
    "data['RainTomorrow'] = data['RainTomorrow'].map(dict(Yes=1,No=0))\n",
    "data['RainToday'] = data['RainToday'].map(dict(Yes=1,No=0))\n",
    "data.head(5)"
   ]
  },
  {
   "cell_type": "markdown",
   "metadata": {},
   "source": [
    "### 1.3.2 Normalization"
   ]
  },
  {
   "cell_type": "code",
   "execution_count": 27,
   "metadata": {},
   "outputs": [
    {
     "data": {
      "text/html": [
       "<div>\n",
       "<style scoped>\n",
       "    .dataframe tbody tr th:only-of-type {\n",
       "        vertical-align: middle;\n",
       "    }\n",
       "\n",
       "    .dataframe tbody tr th {\n",
       "        vertical-align: top;\n",
       "    }\n",
       "\n",
       "    .dataframe thead th {\n",
       "        text-align: right;\n",
       "    }\n",
       "</style>\n",
       "<table border=\"1\" class=\"dataframe\">\n",
       "  <thead>\n",
       "    <tr style=\"text-align: right;\">\n",
       "      <th></th>\n",
       "      <th>MinTemp</th>\n",
       "      <th>Temp</th>\n",
       "      <th>MaxTemp</th>\n",
       "      <th>Rainfall</th>\n",
       "      <th>WindGustSpeed</th>\n",
       "      <th>WindSpeed</th>\n",
       "      <th>Humidity</th>\n",
       "      <th>Pressure</th>\n",
       "      <th>RainToday</th>\n",
       "      <th>RainTomorrow</th>\n",
       "      <th>...</th>\n",
       "      <th>WindDir_NNW</th>\n",
       "      <th>WindDir_NW</th>\n",
       "      <th>WindDir_S</th>\n",
       "      <th>WindDir_SE</th>\n",
       "      <th>WindDir_SSE</th>\n",
       "      <th>WindDir_SSW</th>\n",
       "      <th>WindDir_SW</th>\n",
       "      <th>WindDir_W</th>\n",
       "      <th>WindDir_WNW</th>\n",
       "      <th>WindDir_WSW</th>\n",
       "    </tr>\n",
       "  </thead>\n",
       "  <tbody>\n",
       "    <tr>\n",
       "      <td>count</td>\n",
       "      <td>51978.000000</td>\n",
       "      <td>51978.000000</td>\n",
       "      <td>51978.000000</td>\n",
       "      <td>51978.000000</td>\n",
       "      <td>51978.000000</td>\n",
       "      <td>51978.000000</td>\n",
       "      <td>51978.000000</td>\n",
       "      <td>51978.000000</td>\n",
       "      <td>51978.000000</td>\n",
       "      <td>51978.000000</td>\n",
       "      <td>...</td>\n",
       "      <td>51978.000000</td>\n",
       "      <td>51978.000000</td>\n",
       "      <td>51978.000000</td>\n",
       "      <td>51978.000000</td>\n",
       "      <td>51978.000000</td>\n",
       "      <td>51978.000000</td>\n",
       "      <td>51978.000000</td>\n",
       "      <td>51978.000000</td>\n",
       "      <td>51978.000000</td>\n",
       "      <td>51978.000000</td>\n",
       "    </tr>\n",
       "    <tr>\n",
       "      <td>mean</td>\n",
       "      <td>0.521658</td>\n",
       "      <td>0.506470</td>\n",
       "      <td>0.520828</td>\n",
       "      <td>0.009669</td>\n",
       "      <td>0.273322</td>\n",
       "      <td>0.230057</td>\n",
       "      <td>0.571218</td>\n",
       "      <td>0.612198</td>\n",
       "      <td>0.301801</td>\n",
       "      <td>0.490958</td>\n",
       "      <td>...</td>\n",
       "      <td>0.057736</td>\n",
       "      <td>0.064566</td>\n",
       "      <td>0.066740</td>\n",
       "      <td>0.070934</td>\n",
       "      <td>0.062007</td>\n",
       "      <td>0.056543</td>\n",
       "      <td>0.062969</td>\n",
       "      <td>0.072088</td>\n",
       "      <td>0.066066</td>\n",
       "      <td>0.066470</td>\n",
       "    </tr>\n",
       "    <tr>\n",
       "      <td>std</td>\n",
       "      <td>0.161850</td>\n",
       "      <td>0.135774</td>\n",
       "      <td>0.139206</td>\n",
       "      <td>0.029485</td>\n",
       "      <td>0.114097</td>\n",
       "      <td>0.110371</td>\n",
       "      <td>0.218155</td>\n",
       "      <td>0.113995</td>\n",
       "      <td>0.459044</td>\n",
       "      <td>0.499923</td>\n",
       "      <td>...</td>\n",
       "      <td>0.233246</td>\n",
       "      <td>0.245760</td>\n",
       "      <td>0.249573</td>\n",
       "      <td>0.256717</td>\n",
       "      <td>0.241171</td>\n",
       "      <td>0.230970</td>\n",
       "      <td>0.242909</td>\n",
       "      <td>0.258636</td>\n",
       "      <td>0.248401</td>\n",
       "      <td>0.249105</td>\n",
       "    </tr>\n",
       "    <tr>\n",
       "      <td>min</td>\n",
       "      <td>0.000000</td>\n",
       "      <td>0.000000</td>\n",
       "      <td>0.000000</td>\n",
       "      <td>0.000000</td>\n",
       "      <td>0.000000</td>\n",
       "      <td>0.000000</td>\n",
       "      <td>0.000000</td>\n",
       "      <td>0.000000</td>\n",
       "      <td>0.000000</td>\n",
       "      <td>0.000000</td>\n",
       "      <td>...</td>\n",
       "      <td>0.000000</td>\n",
       "      <td>0.000000</td>\n",
       "      <td>0.000000</td>\n",
       "      <td>0.000000</td>\n",
       "      <td>0.000000</td>\n",
       "      <td>0.000000</td>\n",
       "      <td>0.000000</td>\n",
       "      <td>0.000000</td>\n",
       "      <td>0.000000</td>\n",
       "      <td>0.000000</td>\n",
       "    </tr>\n",
       "    <tr>\n",
       "      <td>25%</td>\n",
       "      <td>0.403553</td>\n",
       "      <td>0.406829</td>\n",
       "      <td>0.416830</td>\n",
       "      <td>0.000000</td>\n",
       "      <td>0.187500</td>\n",
       "      <td>0.156627</td>\n",
       "      <td>0.424242</td>\n",
       "      <td>0.540362</td>\n",
       "      <td>0.000000</td>\n",
       "      <td>0.000000</td>\n",
       "      <td>...</td>\n",
       "      <td>0.000000</td>\n",
       "      <td>0.000000</td>\n",
       "      <td>0.000000</td>\n",
       "      <td>0.000000</td>\n",
       "      <td>0.000000</td>\n",
       "      <td>0.000000</td>\n",
       "      <td>0.000000</td>\n",
       "      <td>0.000000</td>\n",
       "      <td>0.000000</td>\n",
       "      <td>0.000000</td>\n",
       "    </tr>\n",
       "    <tr>\n",
       "      <td>50%</td>\n",
       "      <td>0.515228</td>\n",
       "      <td>0.492683</td>\n",
       "      <td>0.506849</td>\n",
       "      <td>0.000000</td>\n",
       "      <td>0.250000</td>\n",
       "      <td>0.228916</td>\n",
       "      <td>0.585859</td>\n",
       "      <td>0.612198</td>\n",
       "      <td>0.000000</td>\n",
       "      <td>0.000000</td>\n",
       "      <td>...</td>\n",
       "      <td>0.000000</td>\n",
       "      <td>0.000000</td>\n",
       "      <td>0.000000</td>\n",
       "      <td>0.000000</td>\n",
       "      <td>0.000000</td>\n",
       "      <td>0.000000</td>\n",
       "      <td>0.000000</td>\n",
       "      <td>0.000000</td>\n",
       "      <td>0.000000</td>\n",
       "      <td>0.000000</td>\n",
       "    </tr>\n",
       "    <tr>\n",
       "      <td>75%</td>\n",
       "      <td>0.639594</td>\n",
       "      <td>0.600000</td>\n",
       "      <td>0.618395</td>\n",
       "      <td>0.005391</td>\n",
       "      <td>0.335938</td>\n",
       "      <td>0.289157</td>\n",
       "      <td>0.727273</td>\n",
       "      <td>0.683690</td>\n",
       "      <td>1.000000</td>\n",
       "      <td>1.000000</td>\n",
       "      <td>...</td>\n",
       "      <td>0.000000</td>\n",
       "      <td>0.000000</td>\n",
       "      <td>0.000000</td>\n",
       "      <td>0.000000</td>\n",
       "      <td>0.000000</td>\n",
       "      <td>0.000000</td>\n",
       "      <td>0.000000</td>\n",
       "      <td>0.000000</td>\n",
       "      <td>0.000000</td>\n",
       "      <td>0.000000</td>\n",
       "    </tr>\n",
       "    <tr>\n",
       "      <td>max</td>\n",
       "      <td>1.000000</td>\n",
       "      <td>1.000000</td>\n",
       "      <td>1.000000</td>\n",
       "      <td>1.000000</td>\n",
       "      <td>1.000000</td>\n",
       "      <td>1.000000</td>\n",
       "      <td>1.000000</td>\n",
       "      <td>1.000000</td>\n",
       "      <td>1.000000</td>\n",
       "      <td>1.000000</td>\n",
       "      <td>...</td>\n",
       "      <td>1.000000</td>\n",
       "      <td>1.000000</td>\n",
       "      <td>1.000000</td>\n",
       "      <td>1.000000</td>\n",
       "      <td>1.000000</td>\n",
       "      <td>1.000000</td>\n",
       "      <td>1.000000</td>\n",
       "      <td>1.000000</td>\n",
       "      <td>1.000000</td>\n",
       "      <td>1.000000</td>\n",
       "    </tr>\n",
       "  </tbody>\n",
       "</table>\n",
       "<p>8 rows × 42 columns</p>\n",
       "</div>"
      ],
      "text/plain": [
       "            MinTemp          Temp       MaxTemp      Rainfall  WindGustSpeed  \\\n",
       "count  51978.000000  51978.000000  51978.000000  51978.000000   51978.000000   \n",
       "mean       0.521658      0.506470      0.520828      0.009669       0.273322   \n",
       "std        0.161850      0.135774      0.139206      0.029485       0.114097   \n",
       "min        0.000000      0.000000      0.000000      0.000000       0.000000   \n",
       "25%        0.403553      0.406829      0.416830      0.000000       0.187500   \n",
       "50%        0.515228      0.492683      0.506849      0.000000       0.250000   \n",
       "75%        0.639594      0.600000      0.618395      0.005391       0.335938   \n",
       "max        1.000000      1.000000      1.000000      1.000000       1.000000   \n",
       "\n",
       "          WindSpeed      Humidity      Pressure     RainToday  RainTomorrow  \\\n",
       "count  51978.000000  51978.000000  51978.000000  51978.000000  51978.000000   \n",
       "mean       0.230057      0.571218      0.612198      0.301801      0.490958   \n",
       "std        0.110371      0.218155      0.113995      0.459044      0.499923   \n",
       "min        0.000000      0.000000      0.000000      0.000000      0.000000   \n",
       "25%        0.156627      0.424242      0.540362      0.000000      0.000000   \n",
       "50%        0.228916      0.585859      0.612198      0.000000      0.000000   \n",
       "75%        0.289157      0.727273      0.683690      1.000000      1.000000   \n",
       "max        1.000000      1.000000      1.000000      1.000000      1.000000   \n",
       "\n",
       "       ...   WindDir_NNW    WindDir_NW     WindDir_S    WindDir_SE  \\\n",
       "count  ...  51978.000000  51978.000000  51978.000000  51978.000000   \n",
       "mean   ...      0.057736      0.064566      0.066740      0.070934   \n",
       "std    ...      0.233246      0.245760      0.249573      0.256717   \n",
       "min    ...      0.000000      0.000000      0.000000      0.000000   \n",
       "25%    ...      0.000000      0.000000      0.000000      0.000000   \n",
       "50%    ...      0.000000      0.000000      0.000000      0.000000   \n",
       "75%    ...      0.000000      0.000000      0.000000      0.000000   \n",
       "max    ...      1.000000      1.000000      1.000000      1.000000   \n",
       "\n",
       "        WindDir_SSE   WindDir_SSW    WindDir_SW     WindDir_W   WindDir_WNW  \\\n",
       "count  51978.000000  51978.000000  51978.000000  51978.000000  51978.000000   \n",
       "mean       0.062007      0.056543      0.062969      0.072088      0.066066   \n",
       "std        0.241171      0.230970      0.242909      0.258636      0.248401   \n",
       "min        0.000000      0.000000      0.000000      0.000000      0.000000   \n",
       "25%        0.000000      0.000000      0.000000      0.000000      0.000000   \n",
       "50%        0.000000      0.000000      0.000000      0.000000      0.000000   \n",
       "75%        0.000000      0.000000      0.000000      0.000000      0.000000   \n",
       "max        1.000000      1.000000      1.000000      1.000000      1.000000   \n",
       "\n",
       "        WindDir_WSW  \n",
       "count  51978.000000  \n",
       "mean       0.066470  \n",
       "std        0.249105  \n",
       "min        0.000000  \n",
       "25%        0.000000  \n",
       "50%        0.000000  \n",
       "75%        0.000000  \n",
       "max        1.000000  \n",
       "\n",
       "[8 rows x 42 columns]"
      ]
     },
     "execution_count": 27,
     "metadata": {},
     "output_type": "execute_result"
    }
   ],
   "source": [
    "min_max_scaler = preprocessing.MinMaxScaler()\n",
    "np_scaled = min_max_scaler.fit_transform(data)\n",
    "df_normalized = pd.DataFrame(np_scaled, columns=data.columns, index=data.index)\n",
    "df_normalized.describe()\n",
    "\n"
   ]
  },
  {
   "cell_type": "code",
   "execution_count": null,
   "metadata": {},
   "outputs": [],
   "source": [
    "dist_matrix = pd.DataFrame(distance_matrix(df_normalized.values,\n",
    "                           df_normalized.values, p=2),\n",
    "                           index=df_normalized.index,\n",
    "                           columns=df_normalized.index)"
   ]
  },
  {
   "cell_type": "code",
   "execution_count": null,
   "metadata": {},
   "outputs": [],
   "source": [
    "data = df_normalized"
   ]
  },
  {
   "cell_type": "markdown",
   "metadata": {},
   "source": [
    "# Section 2: Build, tune and evaluate cluster analysis and decision tree models "
   ]
  },
  {
   "cell_type": "markdown",
   "metadata": {},
   "source": [
    "## 2.1 KMeans Analysis"
   ]
  },
  {
   "cell_type": "markdown",
   "metadata": {},
   "source": [
    "### 2.1.1 Build Model"
   ]
  },
  {
   "cell_type": "code",
   "execution_count": null,
   "metadata": {},
   "outputs": [],
   "source": [
    "col_name = df_normalized.columns[0:11]"
   ]
  },
  {
   "cell_type": "code",
   "execution_count": null,
   "metadata": {},
   "outputs": [],
   "source": [
    "X = pd.DataFrame(data, columns=col_name)\n",
    "y = data['RainTomorrow']\n",
    "X_train, X_test, y_train, y_test = train_test_split(X, y, test_size=0.33, random_state=42)"
   ]
  },
  {
   "cell_type": "code",
   "execution_count": null,
   "metadata": {},
   "outputs": [],
   "source": [
    "kmeans = KMeans(n_clusters=2, n_init=25, max_iter=100, random_state=6)\n",
    "kmeans.fit(X_train)"
   ]
  },
  {
   "cell_type": "code",
   "execution_count": null,
   "metadata": {},
   "outputs": [],
   "source": [
    "kmeans.__dict__.keys()"
   ]
  },
  {
   "cell_type": "code",
   "execution_count": null,
   "metadata": {},
   "outputs": [],
   "source": [
    "kmeans.labels_"
   ]
  },
  {
   "cell_type": "code",
   "execution_count": null,
   "metadata": {},
   "outputs": [],
   "source": [
    "knn = neighbors.KNeighborsClassifier()\n",
    "knn.fit(X_train, kmeans.labels_)    \n",
    "predictedLabel = knn.predict(X_test)"
   ]
  },
  {
   "cell_type": "code",
   "execution_count": null,
   "metadata": {},
   "outputs": [],
   "source": [
    "print(f\"Accuracy: {round(metrics.accuracy_score(y_test,predictedLabel)*100)}%\")"
   ]
  },
  {
   "cell_type": "code",
   "execution_count": null,
   "metadata": {},
   "outputs": [],
   "source": [
    "confusion_matrix(y_test, predictedLabel)"
   ]
  },
  {
   "cell_type": "code",
   "execution_count": null,
   "metadata": {},
   "outputs": [],
   "source": [
    "r = metrics.classification_report(y_test, predictedLabel)\n",
    "print('report：', r, sep='\\n')"
   ]
  },
  {
   "cell_type": "markdown",
   "metadata": {},
   "source": [
    "First, I used Kmeans to cluster these data, and used KNN to make a regression for predicting. From above results, I can see the accuracy score is 100%. I am wondering if this model is overfitting, so I would try to adjust parameters for checking."
   ]
  },
  {
   "cell_type": "markdown",
   "metadata": {},
   "source": [
    "### 2.1.2 Tune Model"
   ]
  },
  {
   "cell_type": "code",
   "execution_count": null,
   "metadata": {},
   "outputs": [],
   "source": [
    "kmeans = KMeans(n_clusters=2, n_init=20, max_iter=100, random_state=25)\n",
    "kmeans.fit(X_train)"
   ]
  },
  {
   "cell_type": "code",
   "execution_count": null,
   "metadata": {},
   "outputs": [],
   "source": [
    "knn = neighbors.KNeighborsClassifier()\n",
    "knn.fit(X_train, kmeans.labels_)    \n",
    "predictedLabel = knn.predict(X_test)"
   ]
  },
  {
   "cell_type": "code",
   "execution_count": null,
   "metadata": {},
   "outputs": [],
   "source": [
    "print(f\"Accuracy: {round(metrics.accuracy_score(y_test,predictedLabel)*100)}%\")"
   ]
  },
  {
   "cell_type": "code",
   "execution_count": null,
   "metadata": {},
   "outputs": [],
   "source": [
    "confusion_matrix(y_test, predictedLabel)"
   ]
  },
  {
   "cell_type": "markdown",
   "metadata": {},
   "source": [
    "n_init is different centroid seeds. max_iter is maximum number of iterations of the k-means algorithm for a single run. \n",
    "But the score didn't change after I adjusted these parameters. "
   ]
  },
  {
   "cell_type": "markdown",
   "metadata": {},
   "source": [
    "### 2.2 HAC"
   ]
  },
  {
   "cell_type": "markdown",
   "metadata": {},
   "source": [
    "### 2.2.1 Build Model"
   ]
  },
  {
   "cell_type": "code",
   "execution_count": null,
   "metadata": {},
   "outputs": [],
   "source": [
    "data_hac = data_fill"
   ]
  },
  {
   "cell_type": "code",
   "execution_count": null,
   "metadata": {},
   "outputs": [],
   "source": [
    "data_hac = data_hac.drop(['Evaporation','Sunshine','Cloud','WindGustDir','WindDir'],axis=1)\n",
    "data_hac = data_hac.sort_index(axis = 0)\n",
    "data_hac['RainTomorrow'] = data_hac['RainTomorrow'].map(dict(Yes=1,No=0))\n",
    "data_hac['RainToday'] = data_hac['RainToday'].map(dict(Yes=1,No=0))\n",
    "data_hac = data_hac.set_index('Location')\n",
    "\n",
    "hac_min_max_scaler = preprocessing.MinMaxScaler()\n",
    "hac_np_scaled = hac_min_max_scaler.fit_transform(data_hac)\n",
    "hac_df_normalized = pd.DataFrame(hac_np_scaled, columns=data_hac.columns, index=data_hac.index)\n",
    "hac_df_normalized.describe()\n",
    "hac_dist_matrix = pd.DataFrame(distance_matrix(hac_df_normalized.values,\n",
    "                           hac_df_normalized.values, p=2),\n",
    "                           index=hac_df_normalized.index,\n",
    "                           columns=hac_df_normalized.index)\n"
   ]
  },
  {
   "cell_type": "code",
   "execution_count": null,
   "metadata": {},
   "outputs": [],
   "source": [
    "hac_col_name = ['MinTemp','Temp','MaxTemp','Rainfall','WindGustSpeed','WindSpeed','Humidity','Pressure','RainToday']\n",
    "X = pd.DataFrame(hac_df_normalized, columns=hac_col_name)\n",
    "y = hac_df_normalized['RainTomorrow']"
   ]
  },
  {
   "cell_type": "code",
   "execution_count": null,
   "metadata": {},
   "outputs": [],
   "source": [
    "cluster = AgglomerativeClustering(n_clusters=2, affinity='euclidean', linkage='ward')  \n",
    "hac_pred = cluster.fit_predict(X)"
   ]
  },
  {
   "cell_type": "code",
   "execution_count": null,
   "metadata": {},
   "outputs": [],
   "source": [
    "hac_pred"
   ]
  },
  {
   "cell_type": "code",
   "execution_count": null,
   "metadata": {},
   "outputs": [],
   "source": [
    "print(f\"Accuracy: {round(metrics.accuracy_score(hac_pred,y)*100)}%\")"
   ]
  },
  {
   "cell_type": "code",
   "execution_count": null,
   "metadata": {},
   "outputs": [],
   "source": [
    "confusion_matrix(hac_pred, y)"
   ]
  },
  {
   "cell_type": "code",
   "execution_count": null,
   "metadata": {},
   "outputs": [],
   "source": [
    "h = metrics.classification_report(hac_pred, y)\n",
    "print('report：', h, sep='\\n')"
   ]
  },
  {
   "cell_type": "markdown",
   "metadata": {},
   "source": [
    "### 2.2.2 Tune Model"
   ]
  },
  {
   "cell_type": "markdown",
   "metadata": {},
   "source": [
    "There is no way to adjust parameters."
   ]
  },
  {
   "cell_type": "markdown",
   "metadata": {},
   "source": [
    "## 2.3 Decision Tree "
   ]
  },
  {
   "cell_type": "markdown",
   "metadata": {},
   "source": [
    "### 2.3.1 Build Model"
   ]
  },
  {
   "cell_type": "code",
   "execution_count": null,
   "metadata": {},
   "outputs": [],
   "source": [
    "import pandas as pd\n",
    "import numpy as np\n",
    "from sklearn.tree import DecisionTreeClassifier\n",
    "from sklearn.model_selection import train_test_split, GridSearchCV\n",
    "from sklearn import metrics\n",
    "np.random.seed(66)"
   ]
  },
  {
   "cell_type": "code",
   "execution_count": null,
   "metadata": {},
   "outputs": [],
   "source": [
    "data = df_normalized"
   ]
  },
  {
   "cell_type": "code",
   "execution_count": null,
   "metadata": {},
   "outputs": [],
   "source": [
    "X = data.drop(['RainTomorrow'],axis=1)\n",
    "y = data[\"RainTomorrow\"]"
   ]
  },
  {
   "cell_type": "code",
   "execution_count": null,
   "metadata": {},
   "outputs": [],
   "source": [
    "X_train, X_test, y_train, y_test = train_test_split(X, y, test_size=0.33, random_state=42)\n",
    "print(f\"train data size is {X_train.shape}\")\n",
    "print(f\"test data size is {X_test.shape}\")"
   ]
  },
  {
   "cell_type": "code",
   "execution_count": null,
   "metadata": {},
   "outputs": [],
   "source": [
    "clf = DecisionTreeClassifier()\n",
    "clf"
   ]
  },
  {
   "cell_type": "code",
   "execution_count": null,
   "metadata": {},
   "outputs": [],
   "source": [
    "clf.fit(X_train, y_train)"
   ]
  },
  {
   "cell_type": "code",
   "execution_count": null,
   "metadata": {},
   "outputs": [],
   "source": [
    "y_pred = clf.predict(X_test)\n",
    "clf.tree_.max_depth"
   ]
  },
  {
   "cell_type": "code",
   "execution_count": null,
   "metadata": {},
   "outputs": [],
   "source": [
    "print(f\"Accuracy: {round(metrics.accuracy_score(y_test, y_pred)*100)}%\")"
   ]
  },
  {
   "cell_type": "code",
   "execution_count": null,
   "metadata": {},
   "outputs": [],
   "source": [
    "df_confusion = pd.crosstab(y_test, y_pred)\n",
    "df_confusion.columns.name = \"Pred\"\n",
    "df_confusion"
   ]
  },
  {
   "cell_type": "code",
   "execution_count": null,
   "metadata": {},
   "outputs": [],
   "source": [
    "print(metrics.classification_report(y_test, y_pred))"
   ]
  },
  {
   "cell_type": "markdown",
   "metadata": {},
   "source": [
    "I used default parameters to build decision tree model, the max_depth is 39, and the score is 69%. So I will try to adjust parameters for a better model."
   ]
  },
  {
   "cell_type": "markdown",
   "metadata": {},
   "source": [
    "### 2.3.2 Tune Model"
   ]
  },
  {
   "cell_type": "code",
   "execution_count": null,
   "metadata": {},
   "outputs": [],
   "source": [
    "param_grid = {'criterion': ['gini', 'entropy'],\n",
    "              'min_samples_split': [2, 10, 20, 30],\n",
    "              'max_depth': [5, 10, 20, 25, 30],\n",
    "              'min_samples_leaf': [1, 5, 10],\n",
    "              'max_leaf_nodes': [2, 5, 10, 20]}\n",
    "grid = GridSearchCV(clf, param_grid, cv=10, scoring='accuracy')\n",
    "grid.fit(X_train, y_train)"
   ]
  },
  {
   "cell_type": "code",
   "execution_count": null,
   "metadata": {},
   "outputs": [],
   "source": [
    "print(grid.best_score_)"
   ]
  },
  {
   "cell_type": "code",
   "execution_count": null,
   "metadata": {},
   "outputs": [],
   "source": [
    "for hps, values in grid.best_params_.items():\n",
    "    print(f\"{hps}: {values}\")"
   ]
  },
  {
   "cell_type": "markdown",
   "metadata": {},
   "source": [
    "In this part, I used gridsearch to explore which parameters can help improve the performance of this model, the best score is 73.9%, and above are the parameters of the model."
   ]
  },
  {
   "cell_type": "code",
   "execution_count": null,
   "metadata": {},
   "outputs": [],
   "source": [
    "bstrap = ShuffleSplit(n_splits=10, test_size=0.3, random_state=16)\n",
    "grid_bstrap = GridSearchCV(clf, param_grid, cv=bstrap)\n",
    "grid_bstrap.fit(X_train, y_train)"
   ]
  },
  {
   "cell_type": "markdown",
   "metadata": {},
   "source": [
    "For using unbiased data, I used bootstrapping to make sure that the data is good for model. Then, I continued to use gridsearch for looking for better parameters."
   ]
  },
  {
   "cell_type": "code",
   "execution_count": null,
   "metadata": {},
   "outputs": [],
   "source": [
    "print(f\"Accuracy: {round(grid_bstrap.best_score_*100, 2)}%\")"
   ]
  },
  {
   "cell_type": "code",
   "execution_count": null,
   "metadata": {},
   "outputs": [],
   "source": [
    "for key, value in grid_bstrap.best_params_.items():\n",
    "    print(f\"Hyperparameter: {key}; Value: {value}\")"
   ]
  },
  {
   "cell_type": "code",
   "execution_count": null,
   "metadata": {},
   "outputs": [],
   "source": [
    "#ROC\n",
    "\n",
    "fpr, tpr, thresholds = metrics.roc_curve(y_test,y_pred,pos_label=None,sample_weight=None,drop_intermediate=True)\n",
    "\n",
    "plt.plot(fpr,tpr,marker = 'o')\n",
    "\n",
    "plt.show()"
   ]
  },
  {
   "cell_type": "code",
   "execution_count": null,
   "metadata": {},
   "outputs": [],
   "source": [
    "from sklearn.metrics import auc\n",
    "\n",
    "AUC = auc(fpr, tpr)\n",
    "\n",
    "AUC"
   ]
  },
  {
   "cell_type": "markdown",
   "metadata": {},
   "source": [
    "## 3. Validate Model"
   ]
  },
  {
   "cell_type": "code",
   "execution_count": null,
   "metadata": {},
   "outputs": [],
   "source": [
    "validation = pd.read_csv(\"./Weather Forecast Testing.csv\")"
   ]
  },
  {
   "cell_type": "code",
   "execution_count": null,
   "metadata": {},
   "outputs": [],
   "source": [
    "validation.head(5)"
   ]
  },
  {
   "cell_type": "code",
   "execution_count": null,
   "metadata": {},
   "outputs": [],
   "source": [
    "validation.describe()"
   ]
  },
  {
   "cell_type": "code",
   "execution_count": null,
   "metadata": {},
   "outputs": [],
   "source": [
    "validation.info()"
   ]
  },
  {
   "cell_type": "code",
   "execution_count": null,
   "metadata": {},
   "outputs": [],
   "source": [
    "validation.isnull().sum()"
   ]
  },
  {
   "cell_type": "code",
   "execution_count": null,
   "metadata": {},
   "outputs": [],
   "source": [
    "name = ['Location', 'MinTemp', 'Temp','MaxTemp', 'Rainfall', 'Evaporation', 'Sunshine',\n",
    "       'WindGustDir', 'WindDir','WindGustSpeed', 'WindSpeed', 'Humidity',\n",
    "       'Pressure', 'Cloud', 'RainToday']\n",
    "validation.Rainfall = validation.Rainfall.fillna(0)\n",
    "validation.RainToday = [\"Yes\" if status > 1 else \"No\" for status in validation.Rainfall]\n",
    "validation = validation[name]\n",
    "validation.MinTemp.fillna(method='bfill',inplace=True)\n",
    "validation.MaxTemp.fillna(method='ffill',inplace=True)\n",
    "validation.Temp.fillna((validation.MinTemp+validation.MaxTemp)/2,inplace=True)\n",
    "validation.WindGustSpeed.fillna(method='bfill',inplace=True)\n",
    "validation.WindSpeed.fillna(method='ffill',inplace=True)\n",
    "validation = validation.drop(['Evaporation','Sunshine','Cloud'],axis=1)\n",
    "validation.Cloud = data_fill.Cloud.fillna(data_fill.Cloud.mean())\n",
    "validation.Rainfall = data_fill.Rainfall.fillna(data_fill.Rainfall.mean())\n",
    "validation.Evaporation = data_fill.Evaporation.fillna(data_fill.Evaporation.mean())\n",
    "validation.Sunshine = data_fill.Sunshine.fillna(data_fill.Sunshine.mean())\n",
    "validation.Pressure = data_fill.Pressure.fillna(data_fill.Pressure.mean())\n",
    "validation.Humidity = data_fill.Humidity.fillna(data_fill.Humidity.mean())\n",
    "categorical_columns = ['WindGustDir', 'WindDir']\n",
    "validation = pd.get_dummies(validation, columns=categorical_columns)\n",
    "validation['RainToday'] = validation['RainToday'].map(dict(Yes=1,No=0))"
   ]
  },
  {
   "cell_type": "code",
   "execution_count": null,
   "metadata": {},
   "outputs": [],
   "source": [
    "\n",
    "X_validation = pd.DataFrame(validation,columns=validation.columns[1:43])\n",
    "X_validation"
   ]
  },
  {
   "cell_type": "code",
   "execution_count": null,
   "metadata": {},
   "outputs": [],
   "source": [
    "# KMeans\n",
    "kmeans.fit(X_validation)\n",
    "kmeans_pred = kmeans.labels_"
   ]
  },
  {
   "cell_type": "code",
   "execution_count": null,
   "metadata": {},
   "outputs": [],
   "source": [
    "#HAC\n",
    "hac_pred = cluster.fit_predict(X_validation)"
   ]
  },
  {
   "cell_type": "code",
   "execution_count": null,
   "metadata": {},
   "outputs": [],
   "source": [
    "#DT\n",
    "clf_pred = clf.predict(X_validation).astype(int)"
   ]
  },
  {
   "cell_type": "code",
   "execution_count": null,
   "metadata": {},
   "outputs": [],
   "source": [
    "result = pd.DataFrame(list(zip(validation.index,kmeans_pred,hac_pred,clf_pred)),columns=['ID','KMeans','HAC','DecisionTree'])\n",
    "result"
   ]
  },
  {
   "cell_type": "code",
   "execution_count": null,
   "metadata": {},
   "outputs": [],
   "source": [
    "result.to_csv(\"./testing_predicted.csv\")"
   ]
  },
  {
   "cell_type": "code",
   "execution_count": null,
   "metadata": {},
   "outputs": [],
   "source": []
  }
 ],
 "metadata": {
  "kernelspec": {
   "display_name": "Python 3",
   "language": "python",
   "name": "python3"
  },
  "language_info": {
   "codemirror_mode": {
    "name": "ipython",
    "version": 3
   },
   "file_extension": ".py",
   "mimetype": "text/x-python",
   "name": "python",
   "nbconvert_exporter": "python",
   "pygments_lexer": "ipython3",
   "version": "3.7.4"
  },
  "toc": {
   "base_numbering": 1,
   "nav_menu": {},
   "number_sections": true,
   "sideBar": true,
   "skip_h1_title": false,
   "title_cell": "Table of Contents",
   "title_sidebar": "Contents",
   "toc_cell": false,
   "toc_position": {},
   "toc_section_display": true,
   "toc_window_display": false
  }
 },
 "nbformat": 4,
 "nbformat_minor": 2
}
